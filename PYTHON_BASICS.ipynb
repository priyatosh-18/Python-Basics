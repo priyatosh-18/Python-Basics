{
  "cells": [
    {
      "cell_type": "markdown",
      "metadata": {
        "id": "0xy1PGJmZIwP"
      },
      "source": [
        "# PYTHON BASIC QUESTIONS\n",
        "# Theory Questions\n"
      ]
    },
    {
      "cell_type": "markdown",
      "metadata": {
        "id": "VtkbTKzPZW48"
      },
      "source": [
        "1. What is Python, and why is it popular ?\n",
        " - Python is a high level programiing language specially known for is easiness to use and is interpretable.\n",
        " - It is popular because it has vast community support and libraries, it supports multiple paridigm of (object oriented, functional and procedural programming),and also python supports dynamic types.\n",
        "\n",
        " 2. What is an interpreter in Python ?\n",
        "  - Interpreter directly reads and executes the code sequentially in python.\n",
        "  - It is like compiler of other languages but it do not convert the code to machine readable language, it directly intepretes and execute thats why pyhton is an interpretable language.\n",
        "3. What are pre-defined keywords in Python\n",
        " - These are those words in python which have a fixed function or special meaning in python and these words cannot be used as variable to store data.    \n",
        "4. Can keywords be used as variable names\n",
        " - No, predefined keywords cannot be used as variable names to store data.\n",
        "5. What is mutability in Python\n",
        " - mutability refers to the ability to change/update a data type in python.\n",
        "6. Why are lists mutable, but tuples are immutable\n",
        " - lists are mutable because we require lists for flexibility, for altering any data in it.\n",
        " - whereas tuples are unmutuable because we need it for accessing the data much faster and since they are used to represent a fixed set of data, they can be easily accesed by their memory address in the system.\n",
        "7. What is the difference between “==” and “is” operators in Python\n",
        "- both are comparison operators but == is an equality operator while 'is' is an identity operator which not only checks if both data types are same but also checks their memory address.\n",
        "8. What are logical operators in Python\n",
        " - those operators which are used to combine conditional statements of if, elif and while.\n",
        " - logical operators are 'and', 'or' and 'not' present in python.\n",
        "9. What is type casting in Python\n",
        " - Typecasting refers to data type conversion in python across various data types such as int to float, float to string, int to boolean and vice versa and many more.\n",
        "10. What is the difference between implicit and explicit type casting\n",
        " - when no external function is required to convert the data from one data type to another, it is called implicit.\n",
        " - e.g. conversion of int to float \n",
        " - when an external function is required to convert one data type to another, it is called explicit typecasting.\n",
        " - e.g. conversion from string to int/float"
      ]
    },
    {
      "cell_type": "code",
      "execution_count": null,
      "metadata": {},
      "outputs": [
        {
          "data": {
            "text/plain": [
              "20.0"
            ]
          },
          "execution_count": 73,
          "metadata": {},
          "output_type": "execute_result"
        }
      ],
      "source": [
        "# example of explicit typecast\n",
        "age = '20'\n",
        "age_in_float = float(age)\n",
        "age_in_float"
      ]
    },
    {
      "cell_type": "markdown",
      "metadata": {},
      "source": [
        "11. What is the purpose of conditional statements in Python\n",
        " - The primary purpose of conditional statements in Python is to enable decision-making in your code. They allow a program to execute different blocks of code based on whether a specified condition is True or False.\n",
        " - Without conditional statements, a program would simply run from top to bottom, executing the same lines of code every time. Conditional statements introduce dynamic behavior, allowing your program to react to different inputs, handle various scenarios, and create logical pathways.\n",
        "12. How does the elif statement work\n",
        " - the elif must always follow an if statement.It allows to check for a new condition if the initial 'if' turns out to be False.\n",
        " - first it checks the if statement, and if that 'if' statement is true, the code is executed there and python blocks the elif.\n",
        " - if that 'if' statement turns out to be false, python moves to elif condition and checks whether that is true or not. If the elif is true, code is executed and if it is false, python continues to next elif till the true condition is met or till the end of chain.\n",
        " - when all 'if' and 'elif' are false, else command is executed at the end.\n",
        "13. What is the difference between for and while loops\n",
        " - 'for' loop is used when you know the number of iterations or are iterating over a fixed collection.\n",
        " - 'while' loop is used when you need to repeat an action until a specific condition is met.\n",
        "14. Describe a scenario where a while loop is more suitable than a for loop.\n",
        "- A great scenario where a while loop is more suitable than a for loop is when you are writing a program that needs to repeatedly ask for user input until a valid response is received.\n",
        "- For instance, imagine you're creating a simple quiz game. You want to ask the user to guess a number between 1 and 10. You don't know how many attempts the user will need to get the correct answer.\n",
        "\n",
        "Here’s why a while loop is the better choice:\n",
        "\n",
        "a. Indefinite Iteration: The number of times the user needs to guess is unknown. A while loop is perfect for this because it will continue to run \"while\" the guess is incorrect. You can set the condition to something like while guess != correct_answer:.\n",
        "\n",
        "b. Condition-Based Exit: The loop's termination depends entirely on the user's input. The loop stops as soon as the user enters the correct number. A for loop, on the other hand, would require you to pre-define the number of attempts (e.g., for attempt in range(5):), which isn't ideal because you want the user to be able to guess as many times as they need. .\n",
        "\n",
        "In this case, the while loop's ability to run until a specific, unpredictable condition is met makes it the more logical and flexible choice."
      ]
    },
    {
      "cell_type": "markdown",
      "metadata": {
        "id": "t0bUPlZvh_VP"
      },
      "source": [
        "# Practical Questtions\n",
        "\n",
        "1. Write a Python program to print \"Hello, World!\""
      ]
    },
    {
      "cell_type": "code",
      "execution_count": 21,
      "metadata": {
        "colab": {
          "base_uri": "https://localhost:8080/"
        },
        "id": "vQ2lDJw8hm0f",
        "outputId": "77febb6d-a555-4584-931a-62a05fe1b03b"
      },
      "outputs": [
        {
          "name": "stdout",
          "output_type": "stream",
          "text": [
            "\"Hello, World!\"\n"
          ]
        }
      ],
      "source": [
        "print('\"Hello, World!\"')"
      ]
    },
    {
      "cell_type": "markdown",
      "metadata": {
        "id": "LA2u-LrJiZ89"
      },
      "source": [
        "2. Write a Python program that displays your name and age."
      ]
    },
    {
      "cell_type": "code",
      "execution_count": 22,
      "metadata": {
        "id": "YvhFi-hMicGL"
      },
      "outputs": [
        {
          "name": "stdout",
          "output_type": "stream",
          "text": [
            "my name is Priyatosh Dash\n",
            "and my age is 24\n"
          ]
        }
      ],
      "source": [
        "name = 'Priyatosh Dash'\n",
        "age = 24\n",
        "print('my name is',name)\n",
        "print('and my age is' ,age)"
      ]
    },
    {
      "cell_type": "markdown",
      "metadata": {
        "id": "vMdBNCplif6k"
      },
      "source": [
        "3. Write code to print all the pre-defined keywords in Python using the keyword library."
      ]
    },
    {
      "cell_type": "code",
      "execution_count": 79,
      "metadata": {
        "id": "Yap5RBtPijt5"
      },
      "outputs": [
        {
          "name": "stdout",
          "output_type": "stream",
          "text": [
            "All predefined keywords in Python:\n",
            "['False', 'None', 'True', 'and', 'as', 'assert', 'async', 'await', 'break', 'class', 'continue', 'def', 'del', 'elif', 'else', 'except', 'finally', 'for', 'from', 'global', 'if', 'import', 'in', 'is', 'lambda', 'nonlocal', 'not', 'or', 'pass', 'raise', 'return', 'try', 'while', 'with', 'yield']\n"
          ]
        }
      ],
      "source": [
        "import keyword\n",
        "\n",
        "print(\"All predefined keywords in Python:\")\n",
        "print(keyword.kwlist)"
      ]
    },
    {
      "cell_type": "markdown",
      "metadata": {
        "id": "I4ZKl3MjikHZ"
      },
      "source": [
        "4. Write a program that checks if a given word is a Python keyword."
      ]
    },
    {
      "cell_type": "code",
      "execution_count": 93,
      "metadata": {
        "id": "cghCk_Xfim03"
      },
      "outputs": [],
      "source": [
        "import keyword\n",
        "\n",
        "def check_if_keyword(word):\n",
        "  \"\"\"\n",
        "  Checks if a given word is a Python keyword.\n",
        "\n",
        "  Args:\n",
        "    word: The string to check.\n",
        "\n",
        "  Returns:\n",
        "    A string indicating whether the word is a keyword or not.\n",
        "  \"\"\"\n",
        "  if keyword.iskeyword(word):\n",
        "    return f\"'{word}' is a Python keyword.\"\n",
        "  else:\n",
        "    return f\"'{word}' is not a Python keyword.\""
      ]
    },
    {
      "cell_type": "markdown",
      "metadata": {
        "id": "VI4nMsfRio_r"
      },
      "source": [
        "5. Create a list and tuple in Python, and demonstrate how attempting to change an element works differently for each."
      ]
    },
    {
      "cell_type": "code",
      "execution_count": 107,
      "metadata": {
        "id": "Svu9SIHwisw_"
      },
      "outputs": [
        {
          "name": "stdout",
          "output_type": "stream",
          "text": [
            "Original list: ['apple', 'banana', 'cherry']\n",
            "\n",
            "Attempting to change the second element of the list...\n",
            "List after change: ['apple', 'grape', 'cherry']\n",
            "Success: Lists are mutable.\n",
            "\n",
            "Original tuple: ('red', 'green', 'blue')\n",
            "\n",
            "Attempting to change the second element of the tuple...\n",
            "Error: 'tuple' object does not support item assignment\n",
            "Failure: Tuples are immutable.\n"
          ]
        }
      ],
      "source": [
        "def demonstrate_mutability():\n",
        "    \"\"\"\n",
        "    Demonstrates how lists can be changed, while tuples cannot.\n",
        "    \"\"\"\n",
        "    # 1. Create a list (mutable)\n",
        "    my_list = [\"apple\", \"banana\", \"cherry\"]\n",
        "    print(f\"Original list: {my_list}\")\n",
        "\n",
        "    # Change an element in the list.\n",
        "    print(\"\\nAttempting to change the second element of the list...\")\n",
        "    my_list[1] = \"grape\"\n",
        "    print(f\"List after change: {my_list}\")\n",
        "    print(\"Success: Lists are mutable.\\n\")\n",
        "\n",
        "    # 2. Create a tuple (immutable)\n",
        "    my_tuple = (\"red\", \"green\", \"blue\")\n",
        "    print(f\"Original tuple: {my_tuple}\")\n",
        "\n",
        "    # Attempt to change an element in the tuple.\n",
        "    print(\"\\nAttempting to change the second element of the tuple...\")\n",
        "    try:\n",
        "        my_tuple[1] = \"yellow\"\n",
        "    except TypeError as e:\n",
        "        print(f\"Error: {e}\")\n",
        "        print(\"Failure: Tuples are immutable.\")\n",
        "demonstrate_mutability()"
      ]
    },
    {
      "cell_type": "markdown",
      "metadata": {
        "id": "Rw_nqiOIitIx"
      },
      "source": [
        "6. Write a function to demonstrate the behavior of mutable and immutable arguments."
      ]
    },
    {
      "cell_type": "code",
      "execution_count": 104,
      "metadata": {
        "id": "cE4w5hZ7ixGG"
      },
      "outputs": [
        {
          "name": "stdout",
          "output_type": "stream",
          "text": [
            "Before calling the function:\n",
            "Original list: [1, 2, 3]\n",
            "Original string: 'hello'\n",
            "--------------------\n",
            "Inside the function:\n",
            "List after modification: [1, 2, 3, 4]\n",
            "String after modification: 'hello world'\n",
            "--------------------\n",
            "\n",
            "After the function call:\n",
            "List after function call: [1, 2, 3, 4]\n",
            "String after function call: 'hello'\n"
          ]
        }
      ],
      "source": [
        "def modify_arguments(a_list, a_string):\n",
        "    \"\"\"\n",
        "    This function attempts to modify a mutable list and an immutable string.\n",
        "    \"\"\"\n",
        "    print(\"Inside the function:\")\n",
        "\n",
        "    # 1. Modifying a mutable object (list)\n",
        "    # This change affects the original list passed to the function.\n",
        "    a_list.append(4)\n",
        "    print(f\"List after modification: {a_list}\")\n",
        "\n",
        "    # 2. Modifying an immutable object (string)\n",
        "    # This creates a new string object inside the function,\n",
        "    # and the original string outside the function is not affected.\n",
        "    a_string += \" world\"\n",
        "    print(f\"String after modification: '{a_string}'\")\n",
        "\n",
        "    print(\"-\" * 20)\n",
        "\n",
        "# --- Main part of the program ---\n",
        "\n",
        "# Define the mutable and immutable objects.\n",
        "my_list = [1, 2, 3]\n",
        "my_string = \"hello\"\n",
        "\n",
        "print(\"Before calling the function:\")\n",
        "print(f\"Original list: {my_list}\")\n",
        "print(f\"Original string: '{my_string}'\")\n",
        "print(\"-\" * 20)\n",
        "\n",
        "# Call the function with the objects as arguments.\n",
        "modify_arguments(my_list, my_string)\n",
        "\n",
        "print(\"\\nAfter the function call:\")\n",
        "# The list has been changed permanently.\n",
        "print(f\"List after function call: {my_list}\")\n",
        "# The string remains unchanged.\n",
        "print(f\"String after function call: '{my_string}'\")\n"
      ]
    },
    {
      "cell_type": "markdown",
      "metadata": {
        "id": "UnXcpAtsixeH"
      },
      "source": [
        "7. Write a program that performs basic arithmetic operations on two user-input numbers."
      ]
    },
    {
      "cell_type": "code",
      "execution_count": null,
      "metadata": {
        "id": "syhSjx8zi0zb"
      },
      "outputs": [
        {
          "name": "stdout",
          "output_type": "stream",
          "text": [
            "ans is 1.0\n"
          ]
        }
      ],
      "source": [
        "num1 = float(input('enter first num:'))\n",
        "operator = input('chose you aritmetic operator(+,-,*,/)')\n",
        "num2 = float(input('enter second num:'))\n",
        "if operator == '+':\n",
        " result = num1 + num2\n",
        " print('ans is', result)\n",
        "elif operator == \"-\":\n",
        " result = num1 - num2\n",
        " print('ans is', result)\n",
        "elif operator == \"*\":\n",
        " result = num1 * num2\n",
        " print('ans is', result)\n",
        "elif operator == \"/\":\n",
        " result = num1 / num2\n",
        " print('ans is', result)"
      ]
    },
    {
      "cell_type": "markdown",
      "metadata": {
        "id": "z61XEgs5i1NJ"
      },
      "source": [
        "8.  Write a program to demonstrate the use of logical operators."
      ]
    },
    {
      "cell_type": "code",
      "execution_count": null,
      "metadata": {
        "id": "3uNsfbx9i4z7"
      },
      "outputs": [
        {
          "name": "stdout",
          "output_type": "stream",
          "text": [
            "--- Demonstrating 'and' operator ---\n",
            "Person is a student and 25 years old.\n",
            "Both x (10) is positive and y (5) is less than 10.\n",
            "\n",
            "--- Demonstrating 'or' operator ---\n",
            "Customer is eligible for a discount.\n",
            "It's either hot or raining (or both).\n",
            "\n",
            "--- Demonstrating 'not' operator ---\n",
            "User is not logged in.\n",
            "The list is empty.\n"
          ]
        }
      ],
      "source": [
        "# --- Demonstrating 'and' operator ---\n",
        "print(\"--- Demonstrating 'and' operator ---\")\n",
        "age = 25\n",
        "is_student = True\n",
        "\n",
        "# Condition: Must be a student AND be between 18 and 30 years old (inclusive)\n",
        "if is_student and (age >= 18 and age <= 30):\n",
        "    print(f\"Person is a student and {age} years old.\")\n",
        "else:\n",
        "    print(f\"Person is either not a student or not within the age range (18-30).\")\n",
        "\n",
        "# Another example with 'and'\n",
        "x = 10\n",
        "y = 5\n",
        "if x > 0 and y < 10:\n",
        "    print(f\"Both x ({x}) is positive and y ({y}) is less than 10.\")\n",
        "else:\n",
        "    print(f\"At least one condition for x and y is false.\")\n",
        "\n",
        "print(\"\\n--- Demonstrating 'or' operator ---\")\n",
        "# --- Demonstrating 'or' operator ---\n",
        "has_discount_code = False\n",
        "is_premium_member = True\n",
        "\n",
        "# Condition: Has a discount code OR is a premium member\n",
        "if has_discount_code or is_premium_member:\n",
        "    print(\"Customer is eligible for a discount.\")\n",
        "else:\n",
        "    print(\"Customer is not eligible for a discount.\")\n",
        "\n",
        "print(\"\\n--- Demonstrating 'not' operator ---\")\n",
        "# --- Demonstrating 'not' operator ---\n",
        "is_logged_in = False\n",
        "\n",
        "# Condition: NOT logged in\n",
        "if not is_logged_in:\n",
        "    print(\"User is not logged in.\")\n",
        "else:\n",
        "    print(\"User is logged in.\")\n"
      ]
    },
    {
      "cell_type": "markdown",
      "metadata": {
        "id": "jXPfZVLri58d"
      },
      "source": [
        "9. Write a Python program to convert user input from string to integer, float, and boolean types."
      ]
    },
    {
      "cell_type": "code",
      "execution_count": 61,
      "metadata": {
        "id": "IsEQSDoui_DF"
      },
      "outputs": [
        {
          "name": "stdout",
          "output_type": "stream",
          "text": [
            "the result of string to integer conversion is 4\n",
            "the result of string to float conversion is 5.46\n",
            "True\n",
            "False\n",
            "True\n",
            "False\n"
          ]
        }
      ],
      "source": [
        "# string to integer coversion\n",
        "num1 = '4'\n",
        "int(num1)\n",
        "print('the result of string to integer conversion is',num1)\n",
        "\n",
        "#string to float\n",
        "num2 = '5.46'\n",
        "float(num2)\n",
        "print('the result of string to float conversion is',num2)\n",
        "\n",
        "#string to boolean conversion\n",
        "nature = 'priyatosh_is_good'\n",
        "nature_2 = 'priyatosh_is_bad'\n",
        "nature_3 = 'priyatosh_is_happy'\n",
        "nature_4 = 'priyatosh_is_sad'\n",
        "priyatosh_is_good = bool(1)\n",
        "priyatosh_is_bad = bool(0)\n",
        "priyatosh_is_happy = bool(1)\n",
        "priyatosh_is_sad = bool(0)\n",
        "print(priyatosh_is_good)\n",
        "print(priyatosh_is_bad)\n",
        "print(priyatosh_is_happy)\n",
        "print(priyatosh_is_sad)\n",
        "\n"
      ]
    },
    {
      "cell_type": "markdown",
      "metadata": {
        "id": "WivyPHm0jAEX"
      },
      "source": [
        "10.  Write code to demonstrate type casting with list elements."
      ]
    },
    {
      "cell_type": "code",
      "execution_count": 103,
      "metadata": {
        "id": "kd3LUQZfjEYA"
      },
      "outputs": [
        {
          "name": "stdout",
          "output_type": "stream",
          "text": [
            "Original list (strings): ['10', '20', '30', '40', '50']\n",
            "Type of first element: <class 'str'>\n",
            "\n",
            "New list (integers): [10, 20, 30, 40, 50]\n",
            "Type of first element: <class 'int'>\n",
            "\n",
            "New list (floats): [10.0, 20.0, 30.0, 40.0, 50.0]\n",
            "Type of first element: <class 'float'>\n",
            "\n",
            "New list (booleans): [True, True, True, True, True]\n",
            "Type of first element: <class 'bool'>\n"
          ]
        }
      ],
      "source": [
        "def demonstrate_type_casting():\n",
        "    \"\"\"\n",
        "    Demonstrates casting list elements to different data types.\n",
        "    \"\"\"\n",
        "    # Create a list with elements of different types (integers as strings).\n",
        "    str_list = [\"10\", \"20\", \"30\", \"40\", \"50\"]\n",
        "    print(f\"Original list (strings): {str_list}\")\n",
        "    print(f\"Type of first element: {type(str_list[0])}\\n\")\n",
        "\n",
        "    # Type cast all elements to integers using a for loop.\n",
        "    int_list = []\n",
        "    for item in str_list:\n",
        "        int_list.append(int(item)) # Cast the string to an integer.\n",
        "\n",
        "    print(f\"New list (integers): {int_list}\")\n",
        "    print(f\"Type of first element: {type(int_list[0])}\\n\")\n",
        "    \n",
        "    # Demonstrate a more compact way using a list comprehension.\n",
        "    float_list = [float(item) for item in int_list] # Cast each integer to a float.\n",
        "\n",
        "    print(f\"New list (floats): {float_list}\")\n",
        "    print(f\"Type of first element: {type(float_list[0])}\\n\")\n",
        "    \n",
        "    # You can also cast elements to boolean.\n",
        "    bool_list = [bool(int(item)) for item in str_list] # Casts string to int, then to bool.\n",
        "\n",
        "    print(f\"New list (booleans): {bool_list}\")\n",
        "    print(f\"Type of first element: {type(bool_list[0])}\")\n",
        "\n",
        "# Call the function to run the program.\n",
        "demonstrate_type_casting()"
      ]
    },
    {
      "cell_type": "markdown",
      "metadata": {
        "id": "LUPqSENtjEoL"
      },
      "source": [
        "11.  Write a program that checks if a number is positive, negative, or zero."
      ]
    },
    {
      "cell_type": "code",
      "execution_count": 100,
      "metadata": {
        "id": "FcyzRUfkjHsr"
      },
      "outputs": [
        {
          "name": "stdout",
          "output_type": "stream",
          "text": [
            "{Number}is negative\n"
          ]
        }
      ],
      "source": [
        "Number = int(input('enter the number to see if it is positive, negative or zero:'))\n",
        "if Number > 0:\n",
        " print('{Number}is positive')\n",
        "elif Number == 0:\n",
        " print('{Number}is zero')\n",
        "elif Number < 0:\n",
        " print('{Number}is negative')"
      ]
    },
    {
      "cell_type": "markdown",
      "metadata": {
        "id": "zPiXMxIjjIMz"
      },
      "source": [
        "12.  Write a for loop to print numbers from 1 to 10."
      ]
    },
    {
      "cell_type": "code",
      "execution_count": 102,
      "metadata": {
        "id": "ouTNFsmgjK-j"
      },
      "outputs": [
        {
          "name": "stdout",
          "output_type": "stream",
          "text": [
            "1\n",
            "2\n",
            "3\n",
            "4\n",
            "5\n",
            "6\n",
            "7\n",
            "8\n",
            "9\n",
            "10\n"
          ]
        }
      ],
      "source": [
        "for number in range(1, 11):\n",
        "    print(number)"
      ]
    },
    {
      "cell_type": "markdown",
      "metadata": {
        "id": "EMRc3VxsjLpy"
      },
      "source": [
        "13. Write a Python program to find the sum of all even numbers between 1 and 50."
      ]
    },
    {
      "cell_type": "code",
      "execution_count": null,
      "metadata": {
        "id": "3E2OYqhWjQiE"
      },
      "outputs": [
        {
          "name": "stdout",
          "output_type": "stream",
          "text": [
            "the sum of even numbers is 630.0\n"
          ]
        }
      ],
      "source": [
        "num1 = int(input('enter the starting even number :'))\n",
        "num2 = int(input('enter the ending even number (under 50 only):')) #can you tell me how to restrict the user from entering values more than 50 ?\n",
        "n = (num2 - num1 + 2)/2 #for knowing no. of terms in between those nums\n",
        "result = n*(num1 + num2)/2\n",
        "print('the sum of even numbers is' ,result)\n",
        "                                                        "
      ]
    },
    {
      "cell_type": "markdown",
      "metadata": {
        "id": "cTDbpl9JjQyY"
      },
      "source": [
        "14. Write a program to reverse a string using a while loop."
      ]
    },
    {
      "cell_type": "code",
      "execution_count": 94,
      "metadata": {
        "id": "8EQDSzR-jTyk"
      },
      "outputs": [
        {
          "name": "stdout",
          "output_type": "stream",
          "text": [
            "The original string is: Python\n",
            "The reversed string using a while loop is: nohtyP\n",
            "The original string is: Hello World!\n",
            "The reversed string using a while loop is: !dlroW olleH\n"
          ]
        }
      ],
      "source": [
        "def reverse_string_while(input_string):\n",
        "    \"\"\"\n",
        "    Reverses a given string using a while loop.\n",
        "\n",
        "    Args:\n",
        "        input_string: The string to be reversed.\n",
        "\n",
        "    Returns:\n",
        "        The reversed string.\n",
        "    \"\"\"\n",
        "    reversed_string = \"\"\n",
        "    index = len(input_string) - 1  # Start from the last character\n",
        "\n",
        "    while index >= 0:\n",
        "        reversed_string += input_string[index]\n",
        "        index -= 1  # Move to the previous character\n",
        "    return reversed_string\n",
        "\n",
        "# Example usage:\n",
        "original_str = \"Python\"\n",
        "reversed_str = reverse_string_while(original_str)\n",
        "print(f\"The original string is: {original_str}\")\n",
        "print(f\"The reversed string using a while loop is: {reversed_str}\")\n",
        "\n",
        "original_str_2 = \"Hello World!\"\n",
        "reversed_str_2 = reverse_string_while(original_str_2)\n",
        "print(f\"The original string is: {original_str_2}\")\n",
        "print(f\"The reversed string using a while loop is: {reversed_str_2}\")"
      ]
    },
    {
      "cell_type": "markdown",
      "metadata": {
        "id": "9OJnMNBfjUTr"
      },
      "source": [
        "15.  Write a Python program to calculate the factorial of a number provided by the user using a while loop."
      ]
    },
    {
      "cell_type": "code",
      "execution_count": 95,
      "metadata": {
        "id": "t9ZMxIxcjYAF"
      },
      "outputs": [
        {
          "name": "stdout",
          "output_type": "stream",
          "text": [
            "The factorial of 5 is 120\n"
          ]
        }
      ],
      "source": [
        "# Get input from the user\n",
        "while True:\n",
        "    try:\n",
        "        num = int(input(\"Enter a non-negative integer: \"))\n",
        "        if num < 0:\n",
        "            print(\"Factorial is not defined for negative numbers. Please enter a non-negative integer.\")\n",
        "        else:\n",
        "            break\n",
        "    except ValueError:\n",
        "        print(\"Invalid input. Please enter an integer.\")\n",
        "\n",
        "# Calculate factorial using a while loop\n",
        "factorial = 1\n",
        "# Special case: factorial of 0 is 1\n",
        "if num == 0:\n",
        "    factorial = 1\n",
        "else:\n",
        "    i = 1\n",
        "    while i <= num:\n",
        "        factorial *= i\n",
        "        i += 1\n",
        "\n",
        "# Print the result\n",
        "print(f\"The factorial of {num} is {factorial}\")"
      ]
    },
    {
      "cell_type": "markdown",
      "metadata": {},
      "source": [
        "I haven't started the list, conditional statments and loops. thats why last practicals questions were copied from google. Also i am unable to implement logic in mutuable and inmutable questions. please guide me.\n",
        "Is there any doubt solving class i can join ?"
      ]
    }
  ],
  "metadata": {
    "colab": {
      "provenance": []
    },
    "kernelspec": {
      "display_name": "Python 3",
      "name": "python3"
    },
    "language_info": {
      "codemirror_mode": {
        "name": "ipython",
        "version": 3
      },
      "file_extension": ".py",
      "mimetype": "text/x-python",
      "name": "python",
      "nbconvert_exporter": "python",
      "pygments_lexer": "ipython3",
      "version": "3.13.7"
    }
  },
  "nbformat": 4,
  "nbformat_minor": 0
}
